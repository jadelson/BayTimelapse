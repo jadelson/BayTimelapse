{
 "cells": [
  {
   "cell_type": "markdown",
   "metadata": {},
   "source": [
    "# SF Bay Tidal Timelapse\n",
    "\n",
    "The goal of this program is to make a timelapse of SF Bay that loops Landsat 8 images by order of tidal phase. This Jupyter notebook is to assist in walking through the development of the code.\n",
    "\n",
    "The first phase collects all images that contain points in the San Francisco Bay between January 1st 2000 and today. "
   ]
  },
  {
   "cell_type": "code",
   "execution_count": 2,
   "metadata": {
    "collapsed": false
   },
   "outputs": [],
   "source": [
    "import ee\n",
    "from datetime import datetime, timedelta\n",
    "import json\n",
    "import urllib\n",
    "import pandas as pd\n",
    "import matplotlib.pyplot as plt\n",
    "import numpy as np\n",
    "import bisect\n",
    "from IPython.display import Image\n",
    "ee.Initialize()"
   ]
  },
  {
   "cell_type": "markdown",
   "metadata": {},
   "source": [
    "### Downloading Satellite Metadata"
   ]
  },
  {
   "cell_type": "code",
   "execution_count": 3,
   "metadata": {
    "collapsed": false
   },
   "outputs": [],
   "source": [
    "\n",
    "landsat8 = ee.ImageCollection('LANDSAT/LC8_L1T')\n",
    "\n",
    "sfbay_region = ee.Geometry.Polygon([[-121.75323486328125,38.151837403006766],[-122.58270263671875,38.16911413556086],[-122.17071533203125,37.33304051804567],[-121.75323486328125,38.151837403006766]])\n",
    "\n",
    "polaris = ee.FeatureCollection('ft:1zsk7Yl06XsdKreWTbn00XOXGEgUpx8TSInmoBo_i');\n",
    "usgs = ee.FeatureCollection('ft:1osKYzQ5iJVDde--yFqM0zkTfND8u-izY4ieMXYIT');\n",
    "\n",
    "locations = polaris.merge(usgs);\n",
    "bufferedLocations = locations.map(lambda f: f.buffer(1000))\n",
    "\n",
    "\n",
    "sf_landsat8 = landsat8.filterBounds(bufferedLocations)\n",
    "\n",
    "sf_landsat8_2000 = sf_landsat8.filterDate('2000-01-01', datetime.now().strftime('%Y-%m-%d'))\n",
    "\n",
    "image_times = []\n",
    "image_names = []\n",
    "for image in sf_landsat8_2000.getInfo()['features']:\n",
    "    \n",
    "    date = image['properties']['DATE_ACQUIRED'] + ' ' + image['properties']['SCENE_CENTER_TIME'][0:8]\n",
    "    image_times.append(datetime.strptime(date,'%Y-%m-%d %H:%M:%S'))\n",
    "    image_names.append(image['properties']['system:index'])\n",
    "    \n",
    "sat_df = pd.DataFrame({'landsat':image_names}, index=image_times)\n",
    "sat_df.index.name = 'image_time'\n",
    "sat_df = sat_df.sort_index()"
   ]
  },
  {
   "cell_type": "code",
   "execution_count": null,
   "metadata": {
    "collapsed": false
   },
   "outputs": [],
   "source": []
  },
  {
   "cell_type": "markdown",
   "metadata": {
    "collapsed": false
   },
   "source": [
    "### Downloading Tidal Data"
   ]
  },
  {
   "cell_type": "code",
   "execution_count": 4,
   "metadata": {
    "collapsed": false
   },
   "outputs": [
    {
     "name": "stdout",
     "output_type": "stream",
     "text": [
      "https://tidesandcurrents.noaa.gov/api/datagetter?begin_date=20130416%2000:00&end_date=20140416%2023:59&station=9414290&product=high_low&datum=mllw&units=metric&time_zone=gmt&application=web_services&format=json\n",
      "https://tidesandcurrents.noaa.gov/api/datagetter?begin_date=20140416%2000:00&end_date=20150416%2023:59&station=9414290&product=high_low&datum=mllw&units=metric&time_zone=gmt&application=web_services&format=json\n",
      "https://tidesandcurrents.noaa.gov/api/datagetter?begin_date=20150416%2000:00&end_date=20160415%2023:59&station=9414290&product=high_low&datum=mllw&units=metric&time_zone=gmt&application=web_services&format=json\n",
      "https://tidesandcurrents.noaa.gov/api/datagetter?begin_date=20160415%2000:00&end_date=20170415%2023:59&station=9414290&product=high_low&datum=mllw&units=metric&time_zone=gmt&application=web_services&format=json\n"
     ]
    }
   ],
   "source": [
    "tide_df = pd.DataFrame()\n",
    "begin_date = sat_df.index[0]\n",
    "end_date = begin_date + timedelta(days = 365)\n",
    "last_date = sat_df.index[-1]\n",
    "while True:\n",
    "    begin_time_str = begin_date.strftime('%Y%m%d%%2000:00')\n",
    "    end_time_str = end_date.strftime('%Y%m%d%%2023:59')\n",
    "    url = ('https://tidesandcurrents.noaa.gov/api/datagetter?'\n",
    "        'begin_date=%s'\n",
    "        '&end_date=%s'\n",
    "        '&station=9414290'\n",
    "        '&product=high_low'\n",
    "        '&datum=mllw'\n",
    "        '&units=metric'\n",
    "        '&time_zone=gmt'\n",
    "        '&application=web_services'\n",
    "        '&format=json')\n",
    "    url = url % (begin_time_str,end_time_str)\n",
    "    print(url)\n",
    "    try:\n",
    "        response = urllib.request.urlopen(url)\n",
    "    except Exception as e :\n",
    "        print(e)\n",
    "    x = response.read().decode('utf-8')\n",
    "    json_df = json.loads(x)\n",
    "    if 'error' in json_df:\n",
    "        print(json_df['error'])\n",
    "        break\n",
    "    else:\n",
    "        tide_df_temp = json_df['data']\n",
    "        tide_df_temp = pd.DataFrame.from_dict(tide_df_temp)\n",
    "        tide_df_temp['t'] = pd.to_datetime(tide_df_temp['t'],infer_datetime_format=True)\n",
    "        tide_df_temp = tide_df_temp.set_index('t')\n",
    "        tide_df = tide_df.append(tide_df_temp)\n",
    "    if end_date > last_date:\n",
    "        break\n",
    "    else:\n",
    "        begin_date = end_date\n",
    "        end_date = begin_date + timedelta(days = 365)"
   ]
  },
  {
   "cell_type": "markdown",
   "metadata": {},
   "source": [
    "### Find tidal phase"
   ]
  },
  {
   "cell_type": "code",
   "execution_count": 5,
   "metadata": {
    "collapsed": false
   },
   "outputs": [
    {
     "name": "stderr",
     "output_type": "stream",
     "text": [
      "/Users/jadelson/anaconda/envs/mudd/lib/python3.5/site-packages/ipykernel/__main__.py:16: SettingWithCopyWarning: \n",
      "A value is trying to be set on a copy of a slice from a DataFrame\n",
      "\n",
      "See the caveats in the documentation: http://pandas.pydata.org/pandas-docs/stable/indexing.html#indexing-view-versus-copy\n",
      "/Users/jadelson/anaconda/envs/mudd/lib/python3.5/site-packages/ipykernel/__main__.py:11: SettingWithCopyWarning: \n",
      "A value is trying to be set on a copy of a slice from a DataFrame\n",
      "\n",
      "See the caveats in the documentation: http://pandas.pydata.org/pandas-docs/stable/indexing.html#indexing-view-versus-copy\n"
     ]
    }
   ],
   "source": [
    "\n",
    "low_water_times = tide_df.index[tide_df['ty']=='LL']\n",
    "ll_df = tide_df[tide_df['ty']=='LL']\n",
    "sat_length = len(sat_df.index)\n",
    "ll_length = len(ll_df.index)\n",
    "sat_df['phase'] = pd.Series(np.zeros(sat_length), index=sat_df.index)\n",
    "j = 0\n",
    "for index, row in sat_df.iterrows():\n",
    "    i = bisect.bisect_left(ll_df.index,index)\n",
    "    if i >= ll_length:\n",
    "        sat_df.phase[j] = np.nan\n",
    "        j += 1\n",
    "        continue\n",
    "    #np.argmin(np.abs(ll_df.index.to_pydatetime() - index)+(((ll_df.index.to_pydatetime() - index) > timedelta(0))*timedelta(days=3)))\n",
    "    td =  ll_df.index[i] - index\n",
    "    sat_df.phase[j] = td.total_seconds()\n",
    "    j += 1\n"
   ]
  },
  {
   "cell_type": "code",
   "execution_count": 6,
   "metadata": {
    "collapsed": false
   },
   "outputs": [
    {
     "name": "stdout",
     "output_type": "stream",
     "text": [
      "README.md              Untitled1.ipynb        sfbay_timelapse.ipynb\r\n",
      "Untitled.ipynb         \u001b[34mfigures\u001b[m\u001b[m/\r\n"
     ]
    }
   ],
   "source": [
    "# %matplotlib inline\n",
    "# plt.plot(sat_df.phase)\n",
    "%ls"
   ]
  },
  {
   "cell_type": "markdown",
   "metadata": {
    "collapsed": true
   },
   "source": [
    "### Bin satellite data by tidal phases"
   ]
  },
  {
   "cell_type": "code",
   "execution_count": 29,
   "metadata": {
    "collapsed": false
   },
   "outputs": [],
   "source": [
    "%pwd\n",
    "data = sat_df['phase']\n",
    "bins = np.linspace(0, 24.4*3600, 24)\n",
    "digitized = np.digitize(data, bins)\n",
    "bin_counts = [len(data[digitized == i]) for i in range(1, len(bins))]\n",
    "bin_means = [data[digitized == i].mean() for i in range(1, len(bins))]\n",
    "names = np.array(list(sat_df['landsat']))\n",
    "binned_sat = [names[digitized == i] for i in range(1, len(bins))]\n",
    "collection_list = []\n",
    "point = ee.Geometry.Point(-122.0918, 37.782)\n",
    "region_bay_area = point.buffer(50000).bounds().getInfo()['coordinates']\n",
    "\n",
    "for bs in binned_sat:\n",
    "    ee_filter = ee.Filter\n",
    "    image_list = []\n",
    "    for name in bs:\n",
    "        image = ee.Image('LANDSAT/LC8_L1T/'+name)\n",
    "        image_list.append(image)\n",
    "    collection_list.append(ee.ImageCollection(image_list).filterBounds(point))\n",
    "\n",
    "    \n",
    "#function to create mask from cloud score\n",
    "def maskClouds(image):\n",
    "    score = ee.Algorithms.Landsat.simpleCloudScore(image).select('cloud')\n",
    "    return image.updateMask(score.lte(80))\n",
    "\n",
    "\n",
    "timelapse_images = []\n",
    "for c, phase in zip(collection_list,bin_means):\n",
    "    c = c.map(maskClouds)\n",
    "    \n",
    "    image = c.reduce(reducer=ee.Reducer.min())\n",
    "\n",
    "    timelapse_images.append(image)\n",
    "#     urllib.request.urlretrieve(image.getThumbUrl({\n",
    "#         'region':region_bay_area,\n",
    "#         'bands':'B4_median,B3_median,B2_median',\n",
    "#         'min':3000,\n",
    "#         'max':30000\n",
    "#     }), 'figures/img_'+str(phase)+'.jpg')\n",
    "\n",
    "c.map?\n"
   ]
  },
  {
   "cell_type": "code",
   "execution_count": 30,
   "metadata": {
    "collapsed": false
   },
   "outputs": [
    {
     "ename": "EEException",
     "evalue": "Image.visualize: No band named 'B4_mi1n'. Available band names: [B1_min, B2_min, B3_min, B4_min, B5_min, B6_min, B7_min, B8_min, B9_min, B10_min, B11_min, BQA_min].",
     "output_type": "error",
     "traceback": [
      "\u001b[0;31m---------------------------------------------------------------------------\u001b[0m",
      "\u001b[0;31mEEException\u001b[0m                               Traceback (most recent call last)",
      "\u001b[0;32m<ipython-input-30-8718c17a7b39>\u001b[0m in \u001b[0;36m<module>\u001b[0;34m()\u001b[0m\n\u001b[1;32m      5\u001b[0m     \u001b[0;34m'bands'\u001b[0m\u001b[0;34m:\u001b[0m\u001b[0;34m'B4_mi1n,B3_min,B2_min'\u001b[0m\u001b[0;34m,\u001b[0m\u001b[0;34m\u001b[0m\u001b[0m\n\u001b[1;32m      6\u001b[0m     \u001b[0;34m'min'\u001b[0m\u001b[0;34m:\u001b[0m\u001b[0;36m3000\u001b[0m\u001b[0;34m,\u001b[0m\u001b[0;34m\u001b[0m\u001b[0m\n\u001b[0;32m----> 7\u001b[0;31m     \u001b[0;34m'max'\u001b[0m\u001b[0;34m:\u001b[0m\u001b[0;36m30000\u001b[0m\u001b[0;34m\u001b[0m\u001b[0m\n\u001b[0m\u001b[1;32m      8\u001b[0m }))\n\u001b[1;32m      9\u001b[0m \u001b[0;31m#     break\u001b[0m\u001b[0;34m\u001b[0m\u001b[0;34m\u001b[0m\u001b[0m\n",
      "\u001b[0;32m/Users/jadelson/anaconda/envs/mudd/lib/python3.5/site-packages/ee/deprecation.py\u001b[0m in \u001b[0;36mWrapper\u001b[0;34m(*args, **kwargs)\u001b[0m\n\u001b[1;32m     30\u001b[0m           \u001b[0mfilename\u001b[0m\u001b[0;34m=\u001b[0m\u001b[0mfunc\u001b[0m\u001b[0;34m.\u001b[0m\u001b[0m__code__\u001b[0m\u001b[0;34m.\u001b[0m\u001b[0mco_filename\u001b[0m\u001b[0;34m,\u001b[0m\u001b[0;34m\u001b[0m\u001b[0m\n\u001b[1;32m     31\u001b[0m           lineno=func.__code__.co_firstlineno + 1)\n\u001b[0;32m---> 32\u001b[0;31m       \u001b[0;32mreturn\u001b[0m \u001b[0mfunc\u001b[0m\u001b[0;34m(\u001b[0m\u001b[0;34m*\u001b[0m\u001b[0margs\u001b[0m\u001b[0;34m,\u001b[0m \u001b[0;34m**\u001b[0m\u001b[0mkwargs\u001b[0m\u001b[0;34m)\u001b[0m\u001b[0;34m\u001b[0m\u001b[0m\n\u001b[0m\u001b[1;32m     33\u001b[0m     \u001b[0mWrapper\u001b[0m\u001b[0;34m.\u001b[0m\u001b[0m__doc__\u001b[0m \u001b[0;34m+=\u001b[0m \u001b[0;34m'\\nDEPRECATED: '\u001b[0m \u001b[0;34m+\u001b[0m \u001b[0mmessage\u001b[0m\u001b[0;34m\u001b[0m\u001b[0m\n\u001b[1;32m     34\u001b[0m     \u001b[0;32mreturn\u001b[0m \u001b[0mWrapper\u001b[0m\u001b[0;34m\u001b[0m\u001b[0m\n",
      "\u001b[0;32m/Users/jadelson/anaconda/envs/mudd/lib/python3.5/site-packages/ee/image.py\u001b[0m in \u001b[0;36mgetThumbURL\u001b[0;34m(self, params)\u001b[0m\n\u001b[1;32m    195\u001b[0m         raise ee_exception.EEException(\n\u001b[1;32m    196\u001b[0m             'The region parameter must be an array or a GeoJSON object.')\n\u001b[0;32m--> 197\u001b[0;31m     \u001b[0;32mreturn\u001b[0m \u001b[0mdata\u001b[0m\u001b[0;34m.\u001b[0m\u001b[0mmakeThumbUrl\u001b[0m\u001b[0;34m(\u001b[0m\u001b[0mdata\u001b[0m\u001b[0;34m.\u001b[0m\u001b[0mgetThumbId\u001b[0m\u001b[0;34m(\u001b[0m\u001b[0mrequest\u001b[0m\u001b[0;34m)\u001b[0m\u001b[0;34m)\u001b[0m\u001b[0;34m\u001b[0m\u001b[0m\n\u001b[0m\u001b[1;32m    198\u001b[0m \u001b[0;34m\u001b[0m\u001b[0m\n\u001b[1;32m    199\u001b[0m   \u001b[0;31m# Deprecated spellings to match the JS library.\u001b[0m\u001b[0;34m\u001b[0m\u001b[0;34m\u001b[0m\u001b[0m\n",
      "\u001b[0;32m/Users/jadelson/anaconda/envs/mudd/lib/python3.5/site-packages/ee/data.py\u001b[0m in \u001b[0;36mgetThumbId\u001b[0;34m(params)\u001b[0m\n\u001b[1;32m    282\u001b[0m   \u001b[0;32mif\u001b[0m \u001b[0;34m'size'\u001b[0m \u001b[0;32min\u001b[0m \u001b[0mrequest\u001b[0m \u001b[0;32mand\u001b[0m \u001b[0misinstance\u001b[0m\u001b[0;34m(\u001b[0m\u001b[0mrequest\u001b[0m\u001b[0;34m[\u001b[0m\u001b[0;34m'size'\u001b[0m\u001b[0;34m]\u001b[0m\u001b[0;34m,\u001b[0m \u001b[0;34m(\u001b[0m\u001b[0mlist\u001b[0m\u001b[0;34m,\u001b[0m \u001b[0mtuple\u001b[0m\u001b[0;34m)\u001b[0m\u001b[0;34m)\u001b[0m\u001b[0;34m:\u001b[0m\u001b[0;34m\u001b[0m\u001b[0m\n\u001b[1;32m    283\u001b[0m     \u001b[0mrequest\u001b[0m\u001b[0;34m[\u001b[0m\u001b[0;34m'size'\u001b[0m\u001b[0;34m]\u001b[0m \u001b[0;34m=\u001b[0m \u001b[0;34m'x'\u001b[0m\u001b[0;34m.\u001b[0m\u001b[0mjoin\u001b[0m\u001b[0;34m(\u001b[0m\u001b[0mmap\u001b[0m\u001b[0;34m(\u001b[0m\u001b[0mstr\u001b[0m\u001b[0;34m,\u001b[0m \u001b[0mrequest\u001b[0m\u001b[0;34m[\u001b[0m\u001b[0;34m'size'\u001b[0m\u001b[0;34m]\u001b[0m\u001b[0;34m)\u001b[0m\u001b[0;34m)\u001b[0m\u001b[0;34m\u001b[0m\u001b[0m\n\u001b[0;32m--> 284\u001b[0;31m   \u001b[0;32mreturn\u001b[0m \u001b[0msend_\u001b[0m\u001b[0;34m(\u001b[0m\u001b[0;34m'/thumb'\u001b[0m\u001b[0;34m,\u001b[0m \u001b[0mrequest\u001b[0m\u001b[0;34m)\u001b[0m\u001b[0;34m\u001b[0m\u001b[0m\n\u001b[0m\u001b[1;32m    285\u001b[0m \u001b[0;34m\u001b[0m\u001b[0m\n\u001b[1;32m    286\u001b[0m \u001b[0;34m\u001b[0m\u001b[0m\n",
      "\u001b[0;32m/Users/jadelson/anaconda/envs/mudd/lib/python3.5/site-packages/ee/data.py\u001b[0m in \u001b[0;36msend_\u001b[0;34m(path, params, opt_method, opt_raw)\u001b[0m\n\u001b[1;32m    728\u001b[0m       \u001b[0;32mraise\u001b[0m \u001b[0mee_exception\u001b[0m\u001b[0;34m.\u001b[0m\u001b[0mEEException\u001b[0m\u001b[0;34m(\u001b[0m\u001b[0;34m'Invalid JSON: %s'\u001b[0m \u001b[0;34m%\u001b[0m \u001b[0mcontent\u001b[0m\u001b[0;34m)\u001b[0m\u001b[0;34m\u001b[0m\u001b[0m\n\u001b[1;32m    729\u001b[0m     \u001b[0;32mif\u001b[0m \u001b[0;34m'error'\u001b[0m \u001b[0;32min\u001b[0m \u001b[0mjson_content\u001b[0m\u001b[0;34m:\u001b[0m\u001b[0;34m\u001b[0m\u001b[0m\n\u001b[0;32m--> 730\u001b[0;31m       \u001b[0;32mraise\u001b[0m \u001b[0mee_exception\u001b[0m\u001b[0;34m.\u001b[0m\u001b[0mEEException\u001b[0m\u001b[0;34m(\u001b[0m\u001b[0mjson_content\u001b[0m\u001b[0;34m[\u001b[0m\u001b[0;34m'error'\u001b[0m\u001b[0;34m]\u001b[0m\u001b[0;34m[\u001b[0m\u001b[0;34m'message'\u001b[0m\u001b[0;34m]\u001b[0m\u001b[0;34m)\u001b[0m\u001b[0;34m\u001b[0m\u001b[0m\n\u001b[0m\u001b[1;32m    731\u001b[0m     \u001b[0;32mif\u001b[0m \u001b[0;34m'data'\u001b[0m \u001b[0;32mnot\u001b[0m \u001b[0;32min\u001b[0m \u001b[0mcontent\u001b[0m\u001b[0;34m:\u001b[0m\u001b[0;34m\u001b[0m\u001b[0m\n\u001b[1;32m    732\u001b[0m       \u001b[0;32mraise\u001b[0m \u001b[0mee_exception\u001b[0m\u001b[0;34m.\u001b[0m\u001b[0mEEException\u001b[0m\u001b[0;34m(\u001b[0m\u001b[0;34m'Malformed response: '\u001b[0m \u001b[0;34m+\u001b[0m \u001b[0mstr\u001b[0m\u001b[0;34m(\u001b[0m\u001b[0mcontent\u001b[0m\u001b[0;34m)\u001b[0m\u001b[0;34m)\u001b[0m\u001b[0;34m\u001b[0m\u001b[0m\n",
      "\u001b[0;31mEEException\u001b[0m: Image.visualize: No band named 'B4_mi1n'. Available band names: [B1_min, B2_min, B3_min, B4_min, B5_min, B6_min, B7_min, B8_min, B9_min, B10_min, B11_min, BQA_min]."
     ]
    }
   ],
   "source": [
    "radiance = ee.Algorithms.Landsat.calibratedRadiance(raw);\n",
    "Map.addLayer(radiance, {bands: ['B4', 'B3', 'B2'], max: 90}, 'radiance');\n",
    "# for image in timelapse_images:\n",
    "Image(url=image.getThumbUrl({\n",
    "    'region':region_bay_area,\n",
    "    'bands':'B4_min,B3_min,B2_min',\n",
    "    'min':3000,\n",
    "    'max':30000\n",
    "}))\n",
    "#     break\n",
    "\n"
   ]
  },
  {
   "cell_type": "markdown",
   "metadata": {},
   "source": [
    "### Conclusions\n",
    "\n",
    "Some filler text"
   ]
  },
  {
   "cell_type": "code",
   "execution_count": null,
   "metadata": {
    "collapsed": false
   },
   "outputs": [],
   "source": []
  },
  {
   "cell_type": "code",
   "execution_count": null,
   "metadata": {
    "collapsed": true
   },
   "outputs": [],
   "source": []
  }
 ],
 "metadata": {
  "kernelspec": {
   "display_name": "py35-mudd",
   "language": "python",
   "name": "py35-mudd"
  },
  "language_info": {
   "codemirror_mode": {
    "name": "ipython",
    "version": 3
   },
   "file_extension": ".py",
   "mimetype": "text/x-python",
   "name": "python",
   "nbconvert_exporter": "python",
   "pygments_lexer": "ipython3",
   "version": "3.5.2"
  }
 },
 "nbformat": 4,
 "nbformat_minor": 2
}
